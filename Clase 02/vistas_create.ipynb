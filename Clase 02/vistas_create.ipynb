{
 "cells": [
  {
   "cell_type": "code",
   "execution_count": 5,
   "metadata": {},
   "outputs": [],
   "source": [
    "def procedur(nombre_vista, query):\n",
    "    res = f\"\"\" CREATE VIEW {nombre_vista} AS\n",
    "                     {query}\n",
    "                        ;\n",
    "    \"\"\"\n",
    "    return res\n",
    "import pymysql\n",
    "\n",
    "conexion = pymysql.connect(\n",
    "    host='localhost',\n",
    "    database='henry',\n",
    "    user='root',\n",
    "    password='root1234'\n",
    ")\n",
    "cursor = conexion.cursor()"
   ]
  },
  {
   "cell_type": "code",
   "execution_count": 7,
   "metadata": {},
   "outputs": [],
   "source": [
    "query = \"\"\"SELECT Nombre, Apellido, TIMESTAMPDIFF(YEAR, FechaNacimiento,CURDATE()) AS EDAD\n",
    "    FROM alumno\n",
    "    WHERE TIMESTAMPDIFF(YEAR,FechaNacimiento,CURDATE()) > (SELECT AVG(TIMESTAMPDIFF(YEAR, FechaNacimiento,CURDATE()))FROM alumno)\n",
    "    ORDER BY 3 DESC\"\"\"\n",
    "proc = procedur('prueba',query)"
   ]
  },
  {
   "cell_type": "code",
   "execution_count": 8,
   "metadata": {},
   "outputs": [
    {
     "data": {
      "text/plain": [
       "0"
      ]
     },
     "execution_count": 8,
     "metadata": {},
     "output_type": "execute_result"
    }
   ],
   "source": [
    "cursor.execute(proc)"
   ]
  }
 ],
 "metadata": {
  "kernelspec": {
   "display_name": "Python 3",
   "language": "python",
   "name": "python3"
  },
  "language_info": {
   "codemirror_mode": {
    "name": "ipython",
    "version": 3
   },
   "file_extension": ".py",
   "mimetype": "text/x-python",
   "name": "python",
   "nbconvert_exporter": "python",
   "pygments_lexer": "ipython3",
   "version": "3.10.11"
  },
  "orig_nbformat": 4
 },
 "nbformat": 4,
 "nbformat_minor": 2
}
